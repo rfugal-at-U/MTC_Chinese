{
 "cells": [
  {
   "cell_type": "code",
   "execution_count": 1,
   "metadata": {},
   "outputs": [
    {
     "name": "stdout",
     "output_type": "stream",
     "text": [
      "RE: b'[\\xe2\\xba\\x80-\\xe2\\xba\\x99\\xe2\\xba\\x9b-\\xe2\\xbb\\xb3\\xe2\\xbc\\x80-\\xe2\\xbf\\x95\\xe3\\x80\\x85\\xe3\\x80\\x87\\xe3\\x80\\xa1-\\xe3\\x80\\xa9\\xe3\\x80\\xb8-\\xe3\\x80\\xba\\xe3\\x80\\xbb\\xe3\\x90\\x80-\\xe4\\xb6\\xb5\\xe4\\xb8\\x80-\\xe9\\xbf\\x83\\xef\\xa4\\x80-\\xef\\xa8\\xad\\xef\\xa8\\xb0-\\xef\\xa9\\xaa\\xef\\xa9\\xb0-\\xef\\xab\\x99\\xf0\\xa0\\x80\\x80-\\xf0\\xaa\\x9b\\x96\\xf0\\xaf\\xa0\\x80-\\xf0\\xaf\\xa8\\x9d]'\n"
     ]
    }
   ],
   "source": [
    "# -*- coding: utf-8 -*-\n",
    "import re\n",
    "\n",
    "LHan = [[0x2E80, 0x2E99],    # Han # So  [26] CJK RADICAL REPEAT, CJK RADICAL RAP\n",
    "        [0x2E9B, 0x2EF3],    # Han # So  [89] CJK RADICAL CHOKE, CJK RADICAL C-SIMPLIFIED TURTLE\n",
    "        [0x2F00, 0x2FD5],    # Han # So [214] KANGXI RADICAL ONE, KANGXI RADICAL FLUTE\n",
    "        0x3005,              # Han # Lm       IDEOGRAPHIC ITERATION MARK\n",
    "        0x3007,              # Han # Nl       IDEOGRAPHIC NUMBER ZERO\n",
    "        [0x3021, 0x3029],    # Han # Nl   [9] HANGZHOU NUMERAL ONE, HANGZHOU NUMERAL NINE\n",
    "        [0x3038, 0x303A],    # Han # Nl   [3] HANGZHOU NUMERAL TEN, HANGZHOU NUMERAL THIRTY\n",
    "        0x303B,              # Han # Lm       VERTICAL IDEOGRAPHIC ITERATION MARK\n",
    "        [0x3400, 0x4DB5],    # Han # Lo [6582] CJK UNIFIED IDEOGRAPH-3400, CJK UNIFIED IDEOGRAPH-4DB5\n",
    "        [0x4E00, 0x9FC3],    # Han # Lo [20932] CJK UNIFIED IDEOGRAPH-4E00, CJK UNIFIED IDEOGRAPH-9FC3\n",
    "        [0xF900, 0xFA2D],    # Han # Lo [302] CJK COMPATIBILITY IDEOGRAPH-F900, CJK COMPATIBILITY IDEOGRAPH-FA2D\n",
    "        [0xFA30, 0xFA6A],    # Han # Lo  [59] CJK COMPATIBILITY IDEOGRAPH-FA30, CJK COMPATIBILITY IDEOGRAPH-FA6A\n",
    "        [0xFA70, 0xFAD9],    # Han # Lo [106] CJK COMPATIBILITY IDEOGRAPH-FA70, CJK COMPATIBILITY IDEOGRAPH-FAD9\n",
    "        [0x20000, 0x2A6D6],  # Han # Lo [42711] CJK UNIFIED IDEOGRAPH-20000, CJK UNIFIED IDEOGRAPH-2A6D6\n",
    "        [0x2F800, 0x2FA1D]]  # Han # Lo [542] CJK COMPATIBILITY IDEOGRAPH-2F800, CJK COMPATIBILITY IDEOGRAPH-2FA1D\n",
    "\n",
    "def build_re():\n",
    "    L = []\n",
    "    for i in LHan:\n",
    "        if isinstance(i, list):\n",
    "            f, t = i\n",
    "            try: \n",
    "                f = chr(f)\n",
    "                t = chr(t)\n",
    "                L.append('%s-%s' % (f, t))\n",
    "            except: \n",
    "                pass # A narrow python build, so can't use chars > 65535 without surrogate pairs!\n",
    "\n",
    "        else:\n",
    "            try:\n",
    "                L.append(chr(i))\n",
    "            except:\n",
    "                pass\n",
    "\n",
    "    RE = '[%s]' % ''.join(L)\n",
    "    print('RE:', RE.encode('utf-8'))\n",
    "    return re.compile(RE, re.UNICODE)\n",
    "\n",
    "RE = build_re()"
   ]
  },
  {
   "cell_type": "code",
   "execution_count": 2,
   "metadata": {},
   "outputs": [],
   "source": [
    "import sqlite3\n",
    "from nltk import FreqDist"
   ]
  },
  {
   "cell_type": "code",
   "execution_count": 3,
   "metadata": {},
   "outputs": [],
   "source": [
    "db = sqlite3.connect('preach_my_gospel_zh.db')\n",
    "cur = db.cursor()"
   ]
  },
  {
   "cell_type": "code",
   "execution_count": 15,
   "metadata": {},
   "outputs": [],
   "source": [
    "# \"CREATE TABLE corpus (url TEXT PRIMARY KEY, type TEXT, html TEXT, string TEXT)\"\n",
    "sql = 'SELECT string, url FROM corpus'\n",
    "cur.execute(sql)\n",
    "data = cur.fetchall()"
   ]
  },
  {
   "cell_type": "code",
   "execution_count": 5,
   "metadata": {},
   "outputs": [
    {
     "data": {
      "text/plain": [
       "274269"
      ]
     },
     "execution_count": 5,
     "metadata": {},
     "output_type": "execute_result"
    }
   ],
   "source": [
    "zi = RE.findall('\\n'.join([x[0] for x in data]))\n",
    "fdist = FreqDist(zi)\n",
    "len(zi)"
   ]
  },
  {
   "cell_type": "code",
   "execution_count": 51,
   "metadata": {
    "scrolled": true
   },
   "outputs": [
    {
     "name": "stdout",
     "output_type": "stream",
     "text": [
      "86%\n"
     ]
    }
   ],
   "source": [
    "fdist2 = FreqDist()\n",
    "learned = 400\n",
    "print(str(int(sum([x[1] for x in fdist.most_common(learned)])/len(zi)*100))+\"%\")\n",
    "most_common = [x[0] for x in fdist.most_common(learned)]\n",
    "for text, url in data:\n",
    "    characters = set(RE.findall(text))\n",
    "    for character in characters:\n",
    "        if character not in most_common:\n",
    "            break\n",
    "    else:\n",
    "        if len(text) > 3:\n",
    "            for a in set(RE.findall(text)):\n",
    "                fdist2[a] += 1"
   ]
  },
  {
   "cell_type": "code",
   "execution_count": 59,
   "metadata": {
    "collapsed": true
   },
   "outputs": [
    {
     "name": "stdout",
     "output_type": "stream",
     "text": [
      "祈\t那\t說\t中\t做\t有\t給\t的\n",
      "如\t話\t他\t為\t信\t道\t不\t你\n",
      "誡\t力\t而\t會\t必\t著\t所\t我\n",
      "果\t量\t麼\t看\t教\t靈\t一\t事\n",
      "愛\t能\t心\t命\t藉\t是\t在\t要\n",
      "樣\t實\t且\t奉\t神\t這\t到\t就\n",
      "或\t啊\t都\t父\t切\t求\t以\t們\n",
      "像\t向\t去\t情\t人\t只\t並\t知\n"
     ]
    }
   ],
   "source": [
    "first_learned = [x[0] for x in fdist2.most_common(64)]\n",
    "first_learned.reverse()\n",
    "print('\\t'.join([x for x in first_learned if (first_learned.index(x)-7)%8 == 0]))\n",
    "print('\\t'.join([x for x in first_learned if (first_learned.index(x)-6)%8 == 0]))\n",
    "print('\\t'.join([x for x in first_learned if (first_learned.index(x)-5)%8 == 0]))\n",
    "print('\\t'.join([x for x in first_learned if (first_learned.index(x)-4)%8 == 0]))\n",
    "print('\\t'.join([x for x in first_learned if (first_learned.index(x)-3)%8 == 0]))\n",
    "print('\\t'.join([x for x in first_learned if (first_learned.index(x)-2)%8 == 0]))\n",
    "print('\\t'.join([x for x in first_learned if (first_learned.index(x)-1)%8 == 0]))\n",
    "print('\\t'.join([x for x in first_learned if first_learned.index(x)%8 == 0]))\n",
    "first_learned.reverse()"
   ]
  },
  {
   "cell_type": "code",
   "execution_count": 72,
   "metadata": {
    "collapsed": true
   },
   "outputs": [
    {
     "name": "stdout",
     "output_type": "stream",
     "text": [
      "58%\n",
      "4.0476190476190474\t[看啊，你還不了解；你以為不用思考，只要向我祈求，我就會給你。](https://www.lds.org/scriptures/dc-testament/dc/9.7?lang=zho#p6)\n",
      "5.647058823529412\t[如果你愛我，就要事奉我，並遵守我所有的誡命。](https://www.lds.org/scriptures/dc-testament/dc/42.29?lang=zho#p28)\n",
      "4.833333333333333\t[所以我希望你們像我一樣完全，或像你們在天上的父一樣完全。](https://www.lds.org/scriptures/bofm/3-ne/12.48?lang=zho#p47)\n",
      "4.333333333333333\t[我對他說：我知道祂愛祂的兒女；不過，我不明白所有事情的意義。](https://www.lds.org/scriptures/bofm/1-ne/11.17?lang=zho#p16)\n",
      "4.176470588235294\t[而我被靈引領著，事先並不知道該做什麼。](https://www.lds.org/scriptures/bofm/1-ne/4.6?lang=zho#p5)\n",
      "4.88\t[靈必藉著信心的祈禱而給你們；你們如果沒有接受到靈，就不要教導。](https://www.lds.org/scriptures/dc-testament/dc/42.14?lang=zho#p13)\n",
      "4.478260869565218\t[所以，你做的一切事都要奉子的名去做，你要悔改，並且永永遠遠奉子的名呼求神。](https://www.lds.org/scriptures/pgp/moses/5.8?lang=zho#p7)\n",
      "3.5869565217391304\t[我，尼腓，不能將在我人民中教導的所有的事都寫下來；而且，我寫的不像說的那麼有力；因為人藉著聖靈的力量講話時，聖靈的力量就將他的話帶到人類兒女心上。](https://www.lds.org/scriptures/bofm/2-ne/33.1?lang=zho#p0)\n",
      "4.833333333333333\t[人在無知中得救是不可能的。](https://www.lds.org/scriptures/dc-testament/dc/131.6?lang=zho#p5)\n",
      "4.947368421052632\t[只要你們先求神的國和祂的義，這一切都必加給你們。](https://www.lds.org/scriptures/bofm/3-ne/13.33?lang=zho#p32)\n",
      "4.068965517241379\t[你們要從這裡到西部各地區，只要找到願意接受你們的人，就在每個地區建立我的教會——](https://www.lds.org/scriptures/dc-testament/dc/42.8?lang=zho#p7)\n",
      "4.4\t[0你們奉我的名，無論向父求什麼，只要正當，並且相信必然得到，看啊，你們求的就必賜給你們。](https://www.lds.org/scriptures/bofm/3-ne/18.20?lang=zho#p19)\n",
      "3.966666666666667\t[我是主你的神；我給你這條誡命——除非藉著我或藉著我的話語，那是我的律法，沒有人能來到父這裡，主說。](https://www.lds.org/scriptures/dc-testament/dc/132.12?lang=zho#p11)\n",
      "3.96\t[那靈的一部分住在我心中，按照我對神的信心和願望，賜給我知識和力量。](https://www.lds.org/scriptures/bofm/alma/18.35?lang=zho#p34)\n",
      "5.25\t[藉著聖靈的力量，你們可以知道一切事情的真實性。](https://www.lds.org/scriptures/bofm/moro/10.5?lang=zho#p4)\n",
      "5.15\t[所以，去宣講你們聽到、確實相信並知道是真實的事。](https://www.lds.org/scriptures/dc-testament/dc/80.4?lang=zho#p3)\n",
      "4.235294117647059\t[事情是這樣的，他服從主的話，就照主的命令去做。](https://www.lds.org/scriptures/bofm/1-ne/2.3?lang=zho#p2)\n",
      "4.6875\t[我實實在在告訴你們，這就是我的福音；你們知道在我教會中必須做的事；因為你們看見我做的事工，你們也要做；因為你們看見我做的一切，就是你們當做的；](https://www.lds.org/scriptures/bofm/3-ne/27.21?lang=zho#p20)\n"
     ]
    }
   ],
   "source": [
    "print(str(int(sum([fdist[x[0]] for x in fdist2.most_common(learned)])/len(zi)*100))+\"%\")\n",
    "most_common = [x[0] for x in fdist.most_common(learned)]\n",
    "for text, url in data:\n",
    "    score = 0\n",
    "    characters = set(RE.findall(text))\n",
    "    for character in characters:\n",
    "        if character not in most_common:\n",
    "            break\n",
    "    else:\n",
    "        if len(text) > 3:\n",
    "            for a in set(RE.findall(text)):\n",
    "                score += fdist2[a]\n",
    "            text = re.sub(r'[ａｂｃ0-9]+','', text)\n",
    "            print(score/len(set(RE.findall(text))),'\\t','[',text,'](',url,')',sep='')"
   ]
  }
 ],
 "metadata": {
  "kernelspec": {
   "display_name": "Python 3",
   "language": "python",
   "name": "python3"
  },
  "language_info": {
   "codemirror_mode": {
    "name": "ipython",
    "version": 3
   },
   "file_extension": ".py",
   "mimetype": "text/x-python",
   "name": "python",
   "nbconvert_exporter": "python",
   "pygments_lexer": "ipython3",
   "version": "3.7.1"
  }
 },
 "nbformat": 4,
 "nbformat_minor": 2
}
