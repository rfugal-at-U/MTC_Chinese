{
 "cells": [
  {
   "cell_type": "code",
   "execution_count": 1,
   "metadata": {},
   "outputs": [],
   "source": [
    "from bs4 import BeautifulSoup\n",
    "import requests\n",
    "import sqlite3"
   ]
  },
  {
   "cell_type": "code",
   "execution_count": 2,
   "metadata": {},
   "outputs": [],
   "source": [
    "pmg_url = 'https://www.lds.org/manual/preach-my-gospel-a-guide-to-missionary-service?lang=zho&_r=1'"
   ]
  },
  {
   "cell_type": "code",
   "execution_count": 3,
   "metadata": {},
   "outputs": [],
   "source": [
    "db = sqlite3.connect('preach_my_gospel_zh.db')\n",
    "cur = db.cursor()"
   ]
  },
  {
   "cell_type": "code",
   "execution_count": 4,
   "metadata": {},
   "outputs": [],
   "source": [
    "sql = \"DROP TABLE IF EXISTS corpus\"\n",
    "cur.execute(sql)\n",
    "sql = \"CREATE TABLE corpus (url TEXT PRIMARY KEY, type TEXT, html TEXT, string TEXT)\"\n",
    "cur.execute(sql)\n",
    "sql = 'INSERT OR IGNORE INTO corpus VALUES (?,?,?,?)'"
   ]
  },
  {
   "cell_type": "code",
   "execution_count": 5,
   "metadata": {},
   "outputs": [],
   "source": [
    "toc_r = requests.get(pmg_url)\n",
    "soup = BeautifulSoup(toc_r.text, 'html.parser')"
   ]
  },
  {
   "cell_type": "code",
   "execution_count": 6,
   "metadata": {},
   "outputs": [],
   "source": [
    "pmg_chapter_urls = [a.get('href') for a in soup.find(class_='table-of-content').find_all('a')]\n",
    "scripture_refs = []\n",
    "for chapter_url in pmg_chapter_urls:\n",
    "    chapter_r = requests.get(chapter_url)\n",
    "    chapter_soup = BeautifulSoup(chapter_r.text, 'html.parser')\n",
    "    primary = chapter_soup.find(id='primary')\n",
    "    scripture_refs += [a.get('href') for a in primary.find_all(class_='scripture-ref')]\n",
    "    cur.execute(sql, (chapter_url, 'preach my gospel', str(primary), primary.get_text()))\n",
    "db.commit()"
   ]
  },
  {
   "cell_type": "code",
   "execution_count": 7,
   "metadata": {},
   "outputs": [
    {
     "name": "stdout",
     "output_type": "stream",
     "text": [
      "890 scripture references\n"
     ]
    }
   ],
   "source": [
    "scripture_refs = list(set(scripture_refs))\n",
    "print(len(scripture_refs), 'scripture references')"
   ]
  },
  {
   "cell_type": "code",
   "execution_count": 8,
   "metadata": {},
   "outputs": [],
   "source": [
    "for ref_url in scripture_refs:\n",
    "    if ref_url[0] == \"/\":\n",
    "        ref_url = \"https://www.lds.org\" + ref_url\n",
    "    ref_r = requests.get(ref_url)\n",
    "    ref_soup = BeautifulSoup(ref_r.text, 'html.parser')\n",
    "    highlights = ref_soup.find_all(class_='verse highlight')\n",
    "    cur.execute(sql, (ref_url, 'scripture', '\\n'.join([str(x) for x in highlights]), '\\n'.join([x.get_text() for x in highlights])))\n",
    "db.commit()"
   ]
  }
 ],
 "metadata": {
  "kernelspec": {
   "display_name": "Python 3",
   "language": "python",
   "name": "python3"
  },
  "language_info": {
   "codemirror_mode": {
    "name": "ipython",
    "version": 3
   },
   "file_extension": ".py",
   "mimetype": "text/x-python",
   "name": "python",
   "nbconvert_exporter": "python",
   "pygments_lexer": "ipython3",
   "version": "3.7.1"
  }
 },
 "nbformat": 4,
 "nbformat_minor": 2
}
